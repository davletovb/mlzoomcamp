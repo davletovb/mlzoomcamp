{
  "cells": [
    {
      "cell_type": "code",
      "execution_count": 1,
      "metadata": {
        "id": "MDUBb_ufgd17"
      },
      "outputs": [],
      "source": [
        "import pandas as pd\n",
        "import numpy as np"
      ]
    },
    {
      "cell_type": "code",
      "execution_count": 2,
      "metadata": {
        "colab": {
          "base_uri": "https://localhost:8080/"
        },
        "id": "YLjYOuHAhU7g",
        "outputId": "fdceab3c-6de7-4951-aea1-7862d25a5b34"
      },
      "outputs": [
        {
          "name": "stdout",
          "output_type": "stream",
          "text": [
            "  % Total    % Received % Xferd  Average Speed   Time    Time     Time  Current\n",
            "                                 Dload  Upload   Total   Spent    Left  Speed\n",
            "100 1390k  100 1390k    0     0  1110k      0  0:00:01  0:00:01 --:--:-- 1080k:00:01  0:00:01 --:--:-- 1119k\n"
          ]
        }
      ],
      "source": [
        "!curl https://raw.githubusercontent.com/alexeygrigorev/datasets/master/housing.csv --output housing.csv"
      ]
    },
    {
      "cell_type": "markdown",
      "metadata": {
        "id": "0NibpTFjUF4h"
      },
      "source": [
        "Load the data."
      ]
    },
    {
      "cell_type": "code",
      "execution_count": 3,
      "metadata": {
        "colab": {
          "base_uri": "https://localhost:8080/",
          "height": 225
        },
        "id": "Mi4Mt2jhg_VQ",
        "outputId": "3b544780-ca1f-4ac6-efba-0ec34ba4839e"
      },
      "outputs": [
        {
          "name": "stdout",
          "output_type": "stream",
          "text": [
            "20640\n"
          ]
        },
        {
          "data": {
            "text/html": [
              "<div>\n",
              "<style scoped>\n",
              "    .dataframe tbody tr th:only-of-type {\n",
              "        vertical-align: middle;\n",
              "    }\n",
              "\n",
              "    .dataframe tbody tr th {\n",
              "        vertical-align: top;\n",
              "    }\n",
              "\n",
              "    .dataframe thead th {\n",
              "        text-align: right;\n",
              "    }\n",
              "</style>\n",
              "<table border=\"1\" class=\"dataframe\">\n",
              "  <thead>\n",
              "    <tr style=\"text-align: right;\">\n",
              "      <th></th>\n",
              "      <th>longitude</th>\n",
              "      <th>latitude</th>\n",
              "      <th>housing_median_age</th>\n",
              "      <th>total_rooms</th>\n",
              "      <th>total_bedrooms</th>\n",
              "      <th>population</th>\n",
              "      <th>households</th>\n",
              "      <th>median_income</th>\n",
              "      <th>median_house_value</th>\n",
              "      <th>ocean_proximity</th>\n",
              "    </tr>\n",
              "  </thead>\n",
              "  <tbody>\n",
              "    <tr>\n",
              "      <th>0</th>\n",
              "      <td>-122.23</td>\n",
              "      <td>37.88</td>\n",
              "      <td>41.0</td>\n",
              "      <td>880.0</td>\n",
              "      <td>129.0</td>\n",
              "      <td>322.0</td>\n",
              "      <td>126.0</td>\n",
              "      <td>8.3252</td>\n",
              "      <td>452600.0</td>\n",
              "      <td>NEAR BAY</td>\n",
              "    </tr>\n",
              "    <tr>\n",
              "      <th>1</th>\n",
              "      <td>-122.22</td>\n",
              "      <td>37.86</td>\n",
              "      <td>21.0</td>\n",
              "      <td>7099.0</td>\n",
              "      <td>1106.0</td>\n",
              "      <td>2401.0</td>\n",
              "      <td>1138.0</td>\n",
              "      <td>8.3014</td>\n",
              "      <td>358500.0</td>\n",
              "      <td>NEAR BAY</td>\n",
              "    </tr>\n",
              "    <tr>\n",
              "      <th>2</th>\n",
              "      <td>-122.24</td>\n",
              "      <td>37.85</td>\n",
              "      <td>52.0</td>\n",
              "      <td>1467.0</td>\n",
              "      <td>190.0</td>\n",
              "      <td>496.0</td>\n",
              "      <td>177.0</td>\n",
              "      <td>7.2574</td>\n",
              "      <td>352100.0</td>\n",
              "      <td>NEAR BAY</td>\n",
              "    </tr>\n",
              "    <tr>\n",
              "      <th>3</th>\n",
              "      <td>-122.25</td>\n",
              "      <td>37.85</td>\n",
              "      <td>52.0</td>\n",
              "      <td>1274.0</td>\n",
              "      <td>235.0</td>\n",
              "      <td>558.0</td>\n",
              "      <td>219.0</td>\n",
              "      <td>5.6431</td>\n",
              "      <td>341300.0</td>\n",
              "      <td>NEAR BAY</td>\n",
              "    </tr>\n",
              "    <tr>\n",
              "      <th>4</th>\n",
              "      <td>-122.25</td>\n",
              "      <td>37.85</td>\n",
              "      <td>52.0</td>\n",
              "      <td>1627.0</td>\n",
              "      <td>280.0</td>\n",
              "      <td>565.0</td>\n",
              "      <td>259.0</td>\n",
              "      <td>3.8462</td>\n",
              "      <td>342200.0</td>\n",
              "      <td>NEAR BAY</td>\n",
              "    </tr>\n",
              "  </tbody>\n",
              "</table>\n",
              "</div>"
            ],
            "text/plain": [
              "   longitude  latitude  housing_median_age  total_rooms  total_bedrooms  \\\n",
              "0    -122.23     37.88                41.0        880.0           129.0   \n",
              "1    -122.22     37.86                21.0       7099.0          1106.0   \n",
              "2    -122.24     37.85                52.0       1467.0           190.0   \n",
              "3    -122.25     37.85                52.0       1274.0           235.0   \n",
              "4    -122.25     37.85                52.0       1627.0           280.0   \n",
              "\n",
              "   population  households  median_income  median_house_value ocean_proximity  \n",
              "0       322.0       126.0         8.3252            452600.0        NEAR BAY  \n",
              "1      2401.0      1138.0         8.3014            358500.0        NEAR BAY  \n",
              "2       496.0       177.0         7.2574            352100.0        NEAR BAY  \n",
              "3       558.0       219.0         5.6431            341300.0        NEAR BAY  \n",
              "4       565.0       259.0         3.8462            342200.0        NEAR BAY  "
            ]
          },
          "execution_count": 3,
          "metadata": {},
          "output_type": "execute_result"
        }
      ],
      "source": [
        "df = pd.read_csv('housing.csv')\n",
        "\n",
        "print(len(df))\n",
        "\n",
        "df.head()"
      ]
    },
    {
      "cell_type": "markdown",
      "metadata": {
        "id": "ChMHo7VIUMhd"
      },
      "source": [
        "Look at the median_house_value variable. Does it have a long tail?"
      ]
    },
    {
      "cell_type": "code",
      "execution_count": 6,
      "metadata": {
        "colab": {
          "base_uri": "https://localhost:8080/",
          "height": 298
        },
        "id": "1yoXOxBLheJw",
        "outputId": "bde6369c-7c36-4060-b710-25bbfe419ce6"
      },
      "outputs": [
        {
          "data": {
            "text/plain": [
              "<AxesSubplot: xlabel='median_house_value', ylabel='Count'>"
            ]
          },
          "execution_count": 6,
          "metadata": {},
          "output_type": "execute_result"
        },
        {
          "data": {
            "image/png": "[encoded data removed]",
            "text/plain": [
              "<Figure size 432x288 with 1 Axes>"
            ]
          },
          "metadata": {
            "needs_background": "light"
          },
          "output_type": "display_data"
        }
      ],
      "source": [
        "%matplotlib inline\n",
        "\n",
        "import seaborn as sns\n",
        "\n",
        "sns.histplot(df['median_house_value'])"
      ]
    },
    {
      "cell_type": "markdown",
      "metadata": {
        "id": "IhQ5NxWYUTSA"
      },
      "source": [
        "For the rest of the homework, you'll need to use only these columns:"
      ]
    },
    {
      "cell_type": "code",
      "execution_count": 7,
      "metadata": {
        "id": "qSuJe3ssw30d"
      },
      "outputs": [],
      "source": [
        "df = df[['latitude',\n",
        "'longitude',\n",
        "'housing_median_age',\n",
        "'total_rooms',\n",
        "'total_bedrooms',\n",
        "'population',\n",
        "'households',\n",
        "'median_income',\n",
        "'median_house_value']]"
      ]
    },
    {
      "cell_type": "markdown",
      "metadata": {
        "id": "v3bfH3KbUW6p"
      },
      "source": [
        "Q1:\n",
        "Find a feature with missing values. How many missing values does it have?"
      ]
    },
    {
      "cell_type": "code",
      "execution_count": 8,
      "metadata": {
        "colab": {
          "base_uri": "https://localhost:8080/"
        },
        "id": "h2edLFSAxCKY",
        "outputId": "4422b0a7-e8e6-4ab2-cb6b-78592474bc9e"
      },
      "outputs": [
        {
          "data": {
            "text/plain": [
              "latitude                0\n",
              "longitude               0\n",
              "housing_median_age      0\n",
              "total_rooms             0\n",
              "total_bedrooms        207\n",
              "population              0\n",
              "households              0\n",
              "median_income           0\n",
              "median_house_value      0\n",
              "dtype: int64"
            ]
          },
          "execution_count": 8,
          "metadata": {},
          "output_type": "execute_result"
        }
      ],
      "source": [
        "df.isnull().sum()"
      ]
    },
    {
      "cell_type": "markdown",
      "metadata": {
        "id": "a0D1z3SMUaD4"
      },
      "source": [
        "Q2: \n",
        "What's the median (50% percentile) for variable 'population'?"
      ]
    },
    {
      "cell_type": "code",
      "execution_count": 9,
      "metadata": {
        "colab": {
          "base_uri": "https://localhost:8080/"
        },
        "id": "MCQbqkabxQ1O",
        "outputId": "7f4b1db9-cd7e-407b-a2c2-66de3a194e50"
      },
      "outputs": [
        {
          "data": {
            "text/plain": [
              "1166.0"
            ]
          },
          "execution_count": 9,
          "metadata": {},
          "output_type": "execute_result"
        }
      ],
      "source": [
        "df['population'].median()"
      ]
    },
    {
      "cell_type": "markdown",
      "metadata": {
        "id": "tLpbR1DHUsBi"
      },
      "source": [
        "Split the data\n",
        "Shuffle the initial dataset, use seed 42.\n",
        "Split your data in train/val/test sets, with 60%/20%/20% distribution.\n",
        "Make sure that the target value ('median_house_value') is not in your dataframe.\n",
        "Apply the log transformation to the median_house_value variable using the np.log1p() function."
      ]
    },
    {
      "cell_type": "code",
      "execution_count": 10,
      "metadata": {
        "colab": {
          "base_uri": "https://localhost:8080/"
        },
        "id": "llP2X42UxWkp",
        "outputId": "24748e93-eb03-45a8-e250-4f26d65e9422"
      },
      "outputs": [
        {
          "data": {
            "text/plain": [
              "(20640, 4128, 4128, 12384)"
            ]
          },
          "execution_count": 10,
          "metadata": {},
          "output_type": "execute_result"
        }
      ],
      "source": [
        "n = len(df)\n",
        "\n",
        "idx = np.arange(n)\n",
        "np.random.seed(42)\n",
        "np.random.shuffle(idx)\n",
        "\n",
        "n_val = int(n*0.2)\n",
        "n_test = int(n*0.2)\n",
        "n_train = int(n*0.6)\n",
        "n, n_val, n_test, n_train"
      ]
    },
    {
      "cell_type": "code",
      "execution_count": 11,
      "metadata": {
        "id": "TYVJm1iyq-NE"
      },
      "outputs": [],
      "source": [
        "df_train = df.iloc[idx[:n_train]]\n",
        "df_val = df.iloc[idx[n_train:n_train+n_val]]\n",
        "df_test = df.iloc[idx[n_train+n_val:]]"
      ]
    },
    {
      "cell_type": "code",
      "execution_count": 12,
      "metadata": {
        "id": "vgfvMcq5uO4x"
      },
      "outputs": [],
      "source": [
        "df_train = df_train.reset_index(drop=True)\n",
        "df_val = df_val.reset_index(drop=True)\n",
        "df_test = df_test.reset_index(drop=True)"
      ]
    },
    {
      "cell_type": "code",
      "execution_count": 13,
      "metadata": {
        "id": "TpVVeGxyvC9l"
      },
      "outputs": [],
      "source": [
        "y_train = np.log1p(df_train['median_house_value'].values)\n",
        "y_val = np.log1p(df_val['median_house_value'].values)\n",
        "y_test = np.log1p(df_test['median_house_value'].values)"
      ]
    },
    {
      "cell_type": "code",
      "execution_count": 14,
      "metadata": {
        "id": "sNp2L2sfvePJ"
      },
      "outputs": [],
      "source": [
        "del df_train['median_house_value']\n",
        "del df_val['median_house_value']\n",
        "del df_test['median_house_value']"
      ]
    },
    {
      "cell_type": "markdown",
      "metadata": {
        "id": "hwIk6D2rU03x"
      },
      "source": [
        "Q3:\n",
        "We need to deal with missing values for the column from Q1.\n",
        "We have two options: fill it with 0 or with the mean of this variable.\n",
        "Try both options. For each, train a linear regression model without regularization using the code from the lessons.\n",
        "For computing the mean, use the training only!\n",
        "Use the validation dataset to evaluate the models and compare the RMSE of each option.\n",
        "Round the RMSE scores to 2 decimal digits using round(score, 2)\n",
        "Which option gives better RMSE?"
      ]
    },
    {
      "cell_type": "code",
      "execution_count": 47,
      "metadata": {},
      "outputs": [
        {
          "name": "stdout",
          "output_type": "stream",
          "text": [
            "0.0\n",
            "0.0\n"
          ]
        }
      ],
      "source": [
        "# We have two options: fill the missing values with 0 or with the mean of the variable.\n",
        "# For each, train a linear regression model without regularization\n",
        "# For computing the mean, use the training only!\n",
        "# Use the validation dataset to evaluate the models and compare the RMSE of each option.\n",
        "# Round the RMSE scores to 2 decimal digits using round(score, 2)\n",
        "# Which option gives better RMSE?\n",
        "\n",
        "# fill with 0 and train a linear regression model\n",
        "df_train_0 = df_train.fillna(0)\n",
        "\n",
        "\n",
        "def train_linear_regression(X,y):\n",
        "    ones = np.ones(X.shape[0])\n",
        "    X = np.column_stack([ones, X])\n",
        "\n",
        "    XTX = X.T.dot(X)\n",
        "    XTX_inv = np.linalg.inv(XTX)\n",
        "    w = XTX_inv.dot(X.T).dot(y)\n",
        "\n",
        "    return w[0], w[1:]\n",
        "\n",
        "# train the model \n",
        "w0, w = train_linear_regression(df_train_0, y_train)\n",
        "\n",
        "# make predictions\n",
        "y_pred = w0 + df_train_0.dot(w)\n",
        "\n",
        "# calculate the RMSE\n",
        "def rmse(y, y_pred):\n",
        "    error = y_pred - y\n",
        "    mse = (error ** 2).mean()\n",
        "    return np.sqrt(mse)\n",
        "\n",
        "rmse_0 = round(rmse(y_train, y_pred), 2)\n",
        "\n",
        "print(rmse_0)\n",
        "\n",
        "# fill with mean and train a linear regression model\n",
        "df_train_mean = df_train.fillna(df_train.total_bedrooms.mean())\n",
        "\n",
        "# train the model\n",
        "w0, w = train_linear_regression(df_train_mean, y_train)\n",
        "\n",
        "# make predictions\n",
        "y_pred = w0 + df_train_mean.dot(w)\n",
        "\n",
        "# calculate the RMSE\n",
        "rmse_mean = round(rmse(y_train, y_pred), 2)\n",
        "\n",
        "print(rmse_mean)\n"
      ]
    },
    {
      "cell_type": "markdown",
      "metadata": {},
      "source": [
        "Q4:\n",
        "Now let's train a regularized linear regression.\n",
        "For this question, fill the NAs with 0.\n",
        "Try different values of r from this list: [0, 0.000001, 0.0001, 0.001, 0.01, 0.1, 1, 5, 10].\n",
        "Use RMSE to evaluate the model on the validation dataset.\n",
        "Round the RMSE scores to 2 decimal digits.\n",
        "Which r gives the best RMSE?"
      ]
    },
    {
      "cell_type": "code",
      "execution_count": 34,
      "metadata": {},
      "outputs": [],
      "source": [
        "# train a regularized linear regression model with r=0.001\n",
        "def train_linear_regression_reg(X, y, r=0.001):\n",
        "    ones = np.ones(X.shape[0])\n",
        "    X = np.column_stack([ones, X])\n",
        "\n",
        "    XTX = X.T.dot(X)\n",
        "    reg = r * np.eye(XTX.shape[0])\n",
        "    XTX = XTX + reg\n",
        "\n",
        "    XTX_inv = np.linalg.inv(XTX)\n",
        "    w = XTX_inv.dot(X.T).dot(y)\n",
        "\n",
        "    return w[0], w[1:]"
      ]
    },
    {
      "cell_type": "code",
      "execution_count": 32,
      "metadata": {},
      "outputs": [],
      "source": [
        "df_train = df_train.fillna(0)"
      ]
    },
    {
      "cell_type": "code",
      "execution_count": 35,
      "metadata": {},
      "outputs": [
        {
          "name": "stdout",
          "output_type": "stream",
          "text": [
            "0 0.34 0.33\n",
            "1e-06 0.34 0.33\n",
            "0.0001 0.34 0.33\n",
            "0.001 0.34 0.33\n",
            "0.01 0.34 0.33\n",
            "0.1 0.34 0.33\n",
            "1 0.35 0.33\n",
            "5 0.35 0.34\n",
            "10 0.35 0.34\n"
          ]
        }
      ],
      "source": [
        "for r in [0, 0.000001, 0.0001, 0.001, 0.01, 0.1, 1, 5, 10]:\n",
        "    w_0, w = train_linear_regression_reg(df_train.values, y_train, r=r)\n",
        "    y_pred = w_0 + df_train.values.dot(w)\n",
        "    rmse_train = rmse(y_train, y_pred)\n",
        "\n",
        "    y_pred = w_0 + df_val.values.dot(w)\n",
        "    rmse_val = rmse(y_val, y_pred)\n",
        "\n",
        "    print(r, round(rmse_train, 2), round(rmse_val, 2))"
      ]
    },
    {
      "cell_type": "markdown",
      "metadata": {},
      "source": [
        "Q5:\n",
        "We used seed 42 for splitting the data. Let's find out how selecting the seed influences our score.\n",
        "Try different seed values: [0, 1, 2, 3, 4, 5, 6, 7, 8, 9].\n",
        "For each seed, do the train/validation/test split with 60%/20%/20% distribution.\n",
        "Fill the missing values with 0 and train a model without regularization.\n",
        "For each seed, evaluate the model on the validation dataset and collect the RMSE scores.\n",
        "What's the standard deviation of all the scores? To compute the standard deviation, use np.std.\n",
        "Round the result to 3 decimal digits (round(std, 3))\n"
      ]
    },
    {
      "cell_type": "code",
      "execution_count": 41,
      "metadata": {},
      "outputs": [
        {
          "name": "stdout",
          "output_type": "stream",
          "text": [
            "0 0.567 0.574\n",
            "1 0.567 0.574\n",
            "2 0.567 0.574\n",
            "3 0.567 0.574\n",
            "4 0.567 0.574\n",
            "5 0.567 0.574\n",
            "6 0.567 0.574\n",
            "7 0.567 0.574\n",
            "8 0.567 0.574\n",
            "9 0.567 0.574\n"
          ]
        },
        {
          "data": {
            "text/plain": [
              "0.0"
            ]
          },
          "execution_count": 41,
          "metadata": {},
          "output_type": "execute_result"
        }
      ],
      "source": [
        "# try different seed values for the random shuffle and see how the RMSE changes\n",
        "rmse_scores = []\n",
        "for seed in [0, 1, 2, 3, 4, 5, 6, 7, 8, 9]:\n",
        "    idx = np.arange(n)\n",
        "    np.random.seed\n",
        "    np.random.shuffle(idx)\n",
        "\n",
        "    n_val = int(n*0.2)\n",
        "    n_test = int(n*0.2)\n",
        "    n_train = int(n*0.6)\n",
        "\n",
        "    df_train = df.iloc[idx[:n_train]]\n",
        "    df_val = df.iloc[idx[n_train:n_train+n_val]]\n",
        "    df_test = df.iloc[idx[n_train+n_val:]]\n",
        "\n",
        "    df_train = df_train.reset_index(drop=True)\n",
        "    df_val = df_val.reset_index(drop=True)\n",
        "    df_test = df_test.reset_index(drop=True)\n",
        "    df_train = df_train.fillna(0)\n",
        "    df_val = df_val.fillna(0)\n",
        "\n",
        "    w0, w = train_linear_regression(df_train.values, y_train)\n",
        "    y_pred = w0 + df_train.values.dot(w)\n",
        "    rmse_train = rmse(y_train, y_pred)\n",
        " \n",
        "\n",
        "    y_pred = w0 + df_val.values.dot(w)\n",
        "    rmse_val = rmse(y_val, y_pred)\n",
        "    rmse_scores.append(rmse_val)\n",
        "\n",
        "    print(seed, round(rmse_train, 3), round(rmse_val, 3))\n",
        "\n",
        "# print the standard deviation of the RMSE scores, round it to 3 decimal places\n",
        "round(np.std(rmse_scores), 3)"
      ]
    },
    {
      "cell_type": "markdown",
      "metadata": {},
      "source": [
        "Q6:\n",
        "Split the dataset like previously, use seed 9.\n",
        "Combine train and validation datasets.\n",
        "Fill the missing values with 0 and train a model with r=0.001.\n",
        "What's the RMSE on the test dataset?"
      ]
    },
    {
      "cell_type": "code",
      "execution_count": 42,
      "metadata": {},
      "outputs": [
        {
          "data": {
            "text/plain": [
              "1.0849898528729166e-06"
            ]
          },
          "execution_count": 42,
          "metadata": {},
          "output_type": "execute_result"
        }
      ],
      "source": [
        "# Split the dataset like previously, use seed 9.\n",
        "# Fill the missing values with 0 and train a model with r=0.001.\n",
        "\n",
        "idx = np.arange(n)\n",
        "np.random.seed(9)\n",
        "np.random.shuffle(idx)\n",
        "\n",
        "n_test = int(n*0.2)\n",
        "n_train = int(n*0.8)\n",
        "\n",
        "df_train = df.iloc[idx[:n_train]]\n",
        "df_test = df.iloc[idx[n_train:]]\n",
        "y_train = df_train.median_house_value.values\n",
        "y_test = df_test.median_house_value.values\n",
        "\n",
        "df_train = df_train.reset_index(drop=True)\n",
        "df_test = df_test.reset_index(drop=True)\n",
        "\n",
        "df_train = df_train.fillna(0)\n",
        "df_test = df_test.fillna(0)\n",
        "\n",
        "w0, w = train_linear_regression_reg(df_train.values, y_train, r=0.001)\n",
        "\n",
        "y_pred = w0 + df_test.values.dot(w)\n",
        "rmse_test = rmse(y_test, y_pred)\n",
        "\n",
        "rmse_test\n"
      ]
    }
  ],
  "metadata": {
    "colab": {
      "provenance": []
    },
    "kernelspec": {
      "display_name": "Python 3.10.4 64-bit",
      "language": "python",
      "name": "python3"
    },
    "language_info": {
      "codemirror_mode": {
        "name": "ipython",
        "version": 3
      },
      "file_extension": ".py",
      "mimetype": "text/x-python",
      "name": "python",
      "nbconvert_exporter": "python",
      "pygments_lexer": "ipython3",
      "version": "3.10.4"
    },
    "vscode": {
      "interpreter": {
        "hash": "aee8b7b246df8f9039afb4144a1f6fd8d2ca17a180786b69acc140d282b71a49"
      }
    }
  },
  "nbformat": 4,
  "nbformat_minor": 0
}
