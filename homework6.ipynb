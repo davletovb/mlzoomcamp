{
  "cells": [
    {
      "cell_type": "markdown",
      "metadata": {
        "id": "-JrenrSGmAeg"
      },
      "source": [
        "**HOMEWORK**  \n",
        "\n",
        "The goal of this homework is to create a regression model for predicting housing prices (column 'median_house_value').  \n",
        "\n",
        "In this homework we'll again use the California Housing Prices dataset - the same one we used in homework 2 and 3.\n",
        "\n",
        "You can take it from [Kaggle](https://www.kaggle.com/datasets/camnugent/california-housing-prices) or download using wget link mentioned below:\n",
        "\n",
        "```\n",
        "wget https://raw.githubusercontent.com/alexeygrigorev/datasets/master/housing.csv\n",
        "\n",
        "```\n",
        "\n"
      ]
    },
    {
      "cell_type": "code",
      "execution_count": null,
      "metadata": {},
      "outputs": [],
      "source": []
    },
    {
      "cell_type": "code",
      "execution_count": 1,
      "metadata": {
        "id": "nLosiCNJUjDM"
      },
      "outputs": [],
      "source": [
        "#@ IMPORTING LIBRARIES AND DEPENDENCIES:\n",
        "import re\n",
        "import numpy as np\n",
        "import pandas as pd\n",
        "import seaborn as sns\n",
        "import xgboost as xgb\n",
        "import matplotlib.pyplot as plt\n",
        "from tqdm.auto import tqdm\n",
        "from sklearn.tree import DecisionTreeRegressor\n",
        "from sklearn.tree import export_text\n",
        "from sklearn.feature_extraction import DictVectorizer\n",
        "from sklearn.model_selection import train_test_split\n",
        "from sklearn.ensemble import RandomForestRegressor\n",
        "from sklearn.metrics import mean_squared_error\n",
        "\n",
        "%matplotlib inline"
      ]
    },
    {
      "cell_type": "code",
      "execution_count": null,
      "metadata": {
        "id": "4Psk224nnyIF"
      },
      "outputs": [],
      "source": [
        "#@ DOWNLOADING THE DATASET: UNCOMMENT BELOW:\n",
        "!wget https://raw.githubusercontent.com/alexeygrigorev/datasets/master/housing.csv"
      ]
    },
    {
      "cell_type": "code",
      "execution_count": 46,
      "metadata": {
        "id": "492Hn6-3n08G"
      },
      "outputs": [],
      "source": [
        "#@ READING DATASET:\n",
        "PATH = \"./housing.csv\"\n",
        "select_cols = [\"longitude\", \"latitude\", \"housing_median_age\", \"total_rooms\", \"total_bedrooms\", \"population\", \"households\", \n",
        "               \"median_income\", \"ocean_proximity\"]\n",
        "df = pd.read_csv(PATH)\n",
        "df.total_bedrooms = df.total_bedrooms.fillna(0)"
      ]
    },
    {
      "cell_type": "markdown",
      "metadata": {
        "id": "OqXppJ_Ro0H0"
      },
      "source": [
        "- Apply the log transform to `median_house_value`. \n",
        "- Do train/validation/test split with 60%/20%/20% distribution.\n",
        "- Use the `train_test_split` function and set the `random_state parameter` to 1."
      ]
    },
    {
      "cell_type": "code",
      "execution_count": 47,
      "metadata": {
        "id": "W1MmdcRDpHS1"
      },
      "outputs": [],
      "source": [
        "#@ SPLITTING THE DATASET FOR TRAINING AND TEST:\n",
        "df[\"median_house_value\"] = np.log1p(df[\"median_house_value\"])\n",
        "train_df, test_df = train_test_split(df, test_size=0.2, random_state=1)\n",
        "train_df, val_df = train_test_split(train_df, test_size=0.25, random_state=1)\n",
        "train_df = train_df.reset_index(drop=True)\n",
        "val_df = val_df.reset_index(drop=True)\n",
        "test_df = test_df.reset_index(drop=True)\n",
        "y_train = train_df.median_house_value.values\n",
        "y_val = val_df.median_house_value.values\n",
        "y_test = test_df.median_house_value.values\n",
        "del train_df[\"median_house_value\"]\n",
        "del val_df[\"median_house_value\"]\n",
        "del test_df[\"median_house_value\"]"
      ]
    },
    {
      "cell_type": "markdown",
      "metadata": {
        "id": "5VKq8FX7qIVM"
      },
      "source": [
        "- We will use `DictVectorizer` to turn train and validation into matrices."
      ]
    },
    {
      "cell_type": "code",
      "execution_count": 49,
      "metadata": {
        "id": "WnfFrWe9qtuc"
      },
      "outputs": [],
      "source": [
        "#@ IMPLEMENTATION OF DICTVECTORIZER:\n",
        "dv = DictVectorizer(sparse=False)\n",
        "train_dict = train_df[select_cols[:-1]].to_dict(orient=\"records\")\n",
        "X_train = dv.fit_transform(train_dict)\n",
        "val_dict = val_df[select_cols[:-1]].to_dict(orient=\"records\")\n",
        "X_val = dv.transform(val_dict)"
      ]
    },
    {
      "cell_type": "markdown",
      "metadata": {
        "id": "qvxmhaD5hmAK"
      },
      "source": [
        "**Question 1**\n",
        "\n",
        "Let's train a decision tree regressor to predict the `median_house_value` variable.\n",
        "\n",
        "Train a model with `max_depth=1`."
      ]
    },
    {
      "cell_type": "code",
      "execution_count": 50,
      "metadata": {
        "id": "cqBcSbpIq7kJ"
      },
      "outputs": [
        {
          "data": {
            "text/html": [
              "<style>#sk-container-id-3 {color: black;background-color: white;}#sk-container-id-3 pre{padding: 0;}#sk-container-id-3 div.sk-toggleable {background-color: white;}#sk-container-id-3 label.sk-toggleable__label {cursor: pointer;display: block;width: 100%;margin-bottom: 0;padding: 0.3em;box-sizing: border-box;text-align: center;}#sk-container-id-3 label.sk-toggleable__label-arrow:before {content: \"▸\";float: left;margin-right: 0.25em;color: #696969;}#sk-container-id-3 label.sk-toggleable__label-arrow:hover:before {color: black;}#sk-container-id-3 div.sk-estimator:hover label.sk-toggleable__label-arrow:before {color: black;}#sk-container-id-3 div.sk-toggleable__content {max-height: 0;max-width: 0;overflow: hidden;text-align: left;background-color: #f0f8ff;}#sk-container-id-3 div.sk-toggleable__content pre {margin: 0.2em;color: black;border-radius: 0.25em;background-color: #f0f8ff;}#sk-container-id-3 input.sk-toggleable__control:checked~div.sk-toggleable__content {max-height: 200px;max-width: 100%;overflow: auto;}#sk-container-id-3 input.sk-toggleable__control:checked~label.sk-toggleable__label-arrow:before {content: \"▾\";}#sk-container-id-3 div.sk-estimator input.sk-toggleable__control:checked~label.sk-toggleable__label {background-color: #d4ebff;}#sk-container-id-3 div.sk-label input.sk-toggleable__control:checked~label.sk-toggleable__label {background-color: #d4ebff;}#sk-container-id-3 input.sk-hidden--visually {border: 0;clip: rect(1px 1px 1px 1px);clip: rect(1px, 1px, 1px, 1px);height: 1px;margin: -1px;overflow: hidden;padding: 0;position: absolute;width: 1px;}#sk-container-id-3 div.sk-estimator {font-family: monospace;background-color: #f0f8ff;border: 1px dotted black;border-radius: 0.25em;box-sizing: border-box;margin-bottom: 0.5em;}#sk-container-id-3 div.sk-estimator:hover {background-color: #d4ebff;}#sk-container-id-3 div.sk-parallel-item::after {content: \"\";width: 100%;border-bottom: 1px solid gray;flex-grow: 1;}#sk-container-id-3 div.sk-label:hover label.sk-toggleable__label {background-color: #d4ebff;}#sk-container-id-3 div.sk-serial::before {content: \"\";position: absolute;border-left: 1px solid gray;box-sizing: border-box;top: 0;bottom: 0;left: 50%;z-index: 0;}#sk-container-id-3 div.sk-serial {display: flex;flex-direction: column;align-items: center;background-color: white;padding-right: 0.2em;padding-left: 0.2em;position: relative;}#sk-container-id-3 div.sk-item {position: relative;z-index: 1;}#sk-container-id-3 div.sk-parallel {display: flex;align-items: stretch;justify-content: center;background-color: white;position: relative;}#sk-container-id-3 div.sk-item::before, #sk-container-id-3 div.sk-parallel-item::before {content: \"\";position: absolute;border-left: 1px solid gray;box-sizing: border-box;top: 0;bottom: 0;left: 50%;z-index: -1;}#sk-container-id-3 div.sk-parallel-item {display: flex;flex-direction: column;z-index: 1;position: relative;background-color: white;}#sk-container-id-3 div.sk-parallel-item:first-child::after {align-self: flex-end;width: 50%;}#sk-container-id-3 div.sk-parallel-item:last-child::after {align-self: flex-start;width: 50%;}#sk-container-id-3 div.sk-parallel-item:only-child::after {width: 0;}#sk-container-id-3 div.sk-dashed-wrapped {border: 1px dashed gray;margin: 0 0.4em 0.5em 0.4em;box-sizing: border-box;padding-bottom: 0.4em;background-color: white;}#sk-container-id-3 div.sk-label label {font-family: monospace;font-weight: bold;display: inline-block;line-height: 1.2em;}#sk-container-id-3 div.sk-label-container {text-align: center;}#sk-container-id-3 div.sk-container {/* jupyter's `normalize.less` sets `[hidden] { display: none; }` but bootstrap.min.css set `[hidden] { display: none !important; }` so we also need the `!important` here to be able to override the default hidden behavior on the sphinx rendered scikit-learn.org. See: https://github.com/scikit-learn/scikit-learn/issues/21755 */display: inline-block !important;position: relative;}#sk-container-id-3 div.sk-text-repr-fallback {display: none;}</style><div id=\"sk-container-id-3\" class=\"sk-top-container\"><div class=\"sk-text-repr-fallback\"><pre>DecisionTreeRegressor(max_depth=1)</pre><b>In a Jupyter environment, please rerun this cell to show the HTML representation or trust the notebook. <br />On GitHub, the HTML representation is unable to render, please try loading this page with nbviewer.org.</b></div><div class=\"sk-container\" hidden><div class=\"sk-item\"><div class=\"sk-estimator sk-toggleable\"><input class=\"sk-toggleable__control sk-hidden--visually\" id=\"sk-estimator-id-3\" type=\"checkbox\" checked><label for=\"sk-estimator-id-3\" class=\"sk-toggleable__label sk-toggleable__label-arrow\">DecisionTreeRegressor</label><div class=\"sk-toggleable__content\"><pre>DecisionTreeRegressor(max_depth=1)</pre></div></div></div></div></div>"
            ],
            "text/plain": [
              "DecisionTreeRegressor(max_depth=1)"
            ]
          },
          "execution_count": 50,
          "metadata": {},
          "output_type": "execute_result"
        }
      ],
      "source": [
        "#@ TRAINING THE REGRESSION MODEL:\n",
        "dt = DecisionTreeRegressor(max_depth=1)\n",
        "dt.fit(X_train, y_train)"
      ]
    },
    {
      "cell_type": "code",
      "execution_count": 55,
      "metadata": {
        "id": "sLAnqRwuikqQ"
      },
      "outputs": [
        {
          "name": "stdout",
          "output_type": "stream",
          "text": [
            "|--- total_bedrooms <= 3.55\n",
            "|   |--- value: [11.78]\n",
            "|--- total_bedrooms >  3.55\n",
            "|   |--- value: [12.40]\n",
            "\n"
          ]
        }
      ],
      "source": [
        "#@ INSPECTION:\n",
        "print(export_text(dt, feature_names=select_cols[:-1]))"
      ]
    },
    {
      "cell_type": "markdown",
      "metadata": {
        "id": "JNBm-qeRp6aZ"
      },
      "source": [
        "- Which feature is used for splitting the data?\n",
        "\n",
        "- Answer:"
      ]
    },
    {
      "cell_type": "markdown",
      "metadata": {
        "id": "Xhnbdy-CqQoB"
      },
      "source": [
        "**Question 2**\n",
        "\n",
        "Train a random forest model with these parameters:\n",
        "\n",
        "- `n_estimators=10`  \n",
        "- `random_state=1`  \n",
        "- `n_jobs=-1` (optional-to make training faster)"
      ]
    },
    {
      "cell_type": "code",
      "execution_count": 56,
      "metadata": {
        "id": "2w-YSGYMisFt"
      },
      "outputs": [
        {
          "data": {
            "text/html": [
              "<style>#sk-container-id-4 {color: black;background-color: white;}#sk-container-id-4 pre{padding: 0;}#sk-container-id-4 div.sk-toggleable {background-color: white;}#sk-container-id-4 label.sk-toggleable__label {cursor: pointer;display: block;width: 100%;margin-bottom: 0;padding: 0.3em;box-sizing: border-box;text-align: center;}#sk-container-id-4 label.sk-toggleable__label-arrow:before {content: \"▸\";float: left;margin-right: 0.25em;color: #696969;}#sk-container-id-4 label.sk-toggleable__label-arrow:hover:before {color: black;}#sk-container-id-4 div.sk-estimator:hover label.sk-toggleable__label-arrow:before {color: black;}#sk-container-id-4 div.sk-toggleable__content {max-height: 0;max-width: 0;overflow: hidden;text-align: left;background-color: #f0f8ff;}#sk-container-id-4 div.sk-toggleable__content pre {margin: 0.2em;color: black;border-radius: 0.25em;background-color: #f0f8ff;}#sk-container-id-4 input.sk-toggleable__control:checked~div.sk-toggleable__content {max-height: 200px;max-width: 100%;overflow: auto;}#sk-container-id-4 input.sk-toggleable__control:checked~label.sk-toggleable__label-arrow:before {content: \"▾\";}#sk-container-id-4 div.sk-estimator input.sk-toggleable__control:checked~label.sk-toggleable__label {background-color: #d4ebff;}#sk-container-id-4 div.sk-label input.sk-toggleable__control:checked~label.sk-toggleable__label {background-color: #d4ebff;}#sk-container-id-4 input.sk-hidden--visually {border: 0;clip: rect(1px 1px 1px 1px);clip: rect(1px, 1px, 1px, 1px);height: 1px;margin: -1px;overflow: hidden;padding: 0;position: absolute;width: 1px;}#sk-container-id-4 div.sk-estimator {font-family: monospace;background-color: #f0f8ff;border: 1px dotted black;border-radius: 0.25em;box-sizing: border-box;margin-bottom: 0.5em;}#sk-container-id-4 div.sk-estimator:hover {background-color: #d4ebff;}#sk-container-id-4 div.sk-parallel-item::after {content: \"\";width: 100%;border-bottom: 1px solid gray;flex-grow: 1;}#sk-container-id-4 div.sk-label:hover label.sk-toggleable__label {background-color: #d4ebff;}#sk-container-id-4 div.sk-serial::before {content: \"\";position: absolute;border-left: 1px solid gray;box-sizing: border-box;top: 0;bottom: 0;left: 50%;z-index: 0;}#sk-container-id-4 div.sk-serial {display: flex;flex-direction: column;align-items: center;background-color: white;padding-right: 0.2em;padding-left: 0.2em;position: relative;}#sk-container-id-4 div.sk-item {position: relative;z-index: 1;}#sk-container-id-4 div.sk-parallel {display: flex;align-items: stretch;justify-content: center;background-color: white;position: relative;}#sk-container-id-4 div.sk-item::before, #sk-container-id-4 div.sk-parallel-item::before {content: \"\";position: absolute;border-left: 1px solid gray;box-sizing: border-box;top: 0;bottom: 0;left: 50%;z-index: -1;}#sk-container-id-4 div.sk-parallel-item {display: flex;flex-direction: column;z-index: 1;position: relative;background-color: white;}#sk-container-id-4 div.sk-parallel-item:first-child::after {align-self: flex-end;width: 50%;}#sk-container-id-4 div.sk-parallel-item:last-child::after {align-self: flex-start;width: 50%;}#sk-container-id-4 div.sk-parallel-item:only-child::after {width: 0;}#sk-container-id-4 div.sk-dashed-wrapped {border: 1px dashed gray;margin: 0 0.4em 0.5em 0.4em;box-sizing: border-box;padding-bottom: 0.4em;background-color: white;}#sk-container-id-4 div.sk-label label {font-family: monospace;font-weight: bold;display: inline-block;line-height: 1.2em;}#sk-container-id-4 div.sk-label-container {text-align: center;}#sk-container-id-4 div.sk-container {/* jupyter's `normalize.less` sets `[hidden] { display: none; }` but bootstrap.min.css set `[hidden] { display: none !important; }` so we also need the `!important` here to be able to override the default hidden behavior on the sphinx rendered scikit-learn.org. See: https://github.com/scikit-learn/scikit-learn/issues/21755 */display: inline-block !important;position: relative;}#sk-container-id-4 div.sk-text-repr-fallback {display: none;}</style><div id=\"sk-container-id-4\" class=\"sk-top-container\"><div class=\"sk-text-repr-fallback\"><pre>RandomForestRegressor(n_estimators=10, n_jobs=-1, random_state=1)</pre><b>In a Jupyter environment, please rerun this cell to show the HTML representation or trust the notebook. <br />On GitHub, the HTML representation is unable to render, please try loading this page with nbviewer.org.</b></div><div class=\"sk-container\" hidden><div class=\"sk-item\"><div class=\"sk-estimator sk-toggleable\"><input class=\"sk-toggleable__control sk-hidden--visually\" id=\"sk-estimator-id-4\" type=\"checkbox\" checked><label for=\"sk-estimator-id-4\" class=\"sk-toggleable__label sk-toggleable__label-arrow\">RandomForestRegressor</label><div class=\"sk-toggleable__content\"><pre>RandomForestRegressor(n_estimators=10, n_jobs=-1, random_state=1)</pre></div></div></div></div></div>"
            ],
            "text/plain": [
              "RandomForestRegressor(n_estimators=10, n_jobs=-1, random_state=1)"
            ]
          },
          "execution_count": 56,
          "metadata": {},
          "output_type": "execute_result"
        }
      ],
      "source": [
        "#@ TRAINING RANDOM FOREST MODEL:\n",
        "rf = RandomForestRegressor(n_estimators=10, random_state=1, n_jobs=-1)\n",
        "rf.fit(X_train, y_train)"
      ]
    },
    {
      "cell_type": "code",
      "execution_count": 58,
      "metadata": {
        "id": "jCxUAO2Rq1Ps"
      },
      "outputs": [
        {
          "name": "stdout",
          "output_type": "stream",
          "text": [
            "RMSE: 0.24138918683936253\n",
            "Mean squared error: 0.058\n"
          ]
        }
      ],
      "source": [
        "#@ CALCULATING MEAN SQUARED ERROR:\n",
        "y_pred = rf.predict(X_val)\n",
        "mse = mean_squared_error(y_val, y_pred)\n",
        "\n",
        "print(\"RMSE:\", np.sqrt(mse))\n",
        "print(f\"Mean squared error: {mse:.3f}\")"
      ]
    },
    {
      "cell_type": "markdown",
      "metadata": {
        "id": "jfcDllHxrTqu"
      },
      "source": [
        "- What's the RMSE of this model on validation?\n",
        "\n",
        "- Answer: "
      ]
    },
    {
      "cell_type": "markdown",
      "metadata": {
        "id": "Y7K69bFSrg_V"
      },
      "source": [
        "**Question 3**\n",
        "\n",
        "Now, let's experiment with the `n_estimators` parameter.\n",
        "\n",
        "- Try different values of this parameter from 10 to 200 with step 10.\n",
        "- Set `random_state` to 1.\n",
        "- Evaluate the model on the validation dataset."
      ]
    },
    {
      "cell_type": "code",
      "execution_count": 66,
      "metadata": {
        "id": "-oUFCQwOrQNN"
      },
      "outputs": [
        {
          "data": {
            "application/vnd.jupyter.widget-view+json": {
              "model_id": "5e902fec01534a598ec6d38e7b4a8d68",
              "version_major": 2,
              "version_minor": 0
            },
            "text/plain": [
              "  0%|          | 0/19 [00:00<?, ?it/s]"
            ]
          },
          "metadata": {},
          "output_type": "display_data"
        }
      ],
      "source": [
        "#@ TRAINING THE RANDOM FOREST MODEL:\n",
        "rmse_values = []\n",
        "for i in tqdm(range(10, 200, 10)):\n",
        "    rf = RandomForestRegressor(n_estimators=i, random_state=1, n_jobs=-1)\n",
        "    rf.fit(X_train, y_train)\n",
        "    y_pred = rf.predict(X_val)\n",
        "    mse = mean_squared_error(y_val, y_pred)\n",
        "    # add the rmse and n_estimators values to the rmse_values list\n",
        "    rmse_values.append((i, np.sqrt(mse)))"
      ]
    },
    {
      "cell_type": "code",
      "execution_count": 67,
      "metadata": {
        "id": "3J-wFLh4s8Ky"
      },
      "outputs": [
        {
          "name": "stdout",
          "output_type": "stream",
          "text": [
            "RMSE: 0.2280031783682614\n",
            "n_estimators: 150\n"
          ]
        },
        {
          "data": {
            "image/png": "[encoded data removed]",
            "text/plain": [
              "<Figure size 432x288 with 1 Axes>"
            ]
          },
          "metadata": {
            "needs_background": "light"
          },
          "output_type": "display_data"
        }
      ],
      "source": [
        "#@ INSPECTING THE RMSE SCORES:\n",
        "sorted_rmse = sorted(rmse_values, key=lambda x: x[1])\n",
        "print(\"RMSE:\", sorted_rmse[0][1])\n",
        "print(\"n_estimators:\", sorted_rmse[0][0])\n",
        "\n",
        "\n",
        "#@ PLOTTING THE RMSE SCORES:\n",
        "plt.plot([x[0] for x in rmse_values], [x[1] for x in rmse_values])\n",
        "plt.xlabel(\"n_estimators\")\n",
        "plt.ylabel(\"RMSE\")\n",
        "plt.show()"
      ]
    },
    {
      "cell_type": "markdown",
      "metadata": {
        "id": "NAXZcW3AuC-d"
      },
      "source": [
        "- After which value of `n_estimators` does RMSE stop improving?\n",
        "\n",
        "- Answer: "
      ]
    },
    {
      "cell_type": "markdown",
      "metadata": {
        "id": "CYhRv3kEvWjK"
      },
      "source": [
        "**Question 4**\n",
        "\n",
        "Let's select the best `max_depth`:\n",
        "\n",
        "- Try different values of `max_depth`: [10, 15, 20, 25].\n",
        "- For each of these values, try different values of n_estimators from 10 till 200 (with step 10).\n",
        "- Fix the random seed: `random_state=1`."
      ]
    },
    {
      "cell_type": "code",
      "execution_count": 61,
      "metadata": {
        "id": "fO9TackKvKcS"
      },
      "outputs": [
        {
          "name": "stdout",
          "output_type": "stream",
          "text": [
            "Best RMSE: (20, 150, 0.22770435315867177)\n"
          ]
        }
      ],
      "source": [
        "#@ TRAINING THE MODEL WITH DEPTH:\n",
        "rmse_values = []\n",
        "for m in [10, 15, 20, 25]:\n",
        "    for i in range(10, 200, 10):\n",
        "        rf = RandomForestRegressor(n_estimators=i, max_depth=m, random_state=1, n_jobs=-1)\n",
        "        rf.fit(X_train, y_train)\n",
        "        y_pred = rf.predict(X_val)\n",
        "        mse = mean_squared_error(y_val, y_pred)\n",
        "        rmse_values.append((m, i, np.sqrt(mse)))\n",
        "\n",
        "print(\"Best RMSE:\", min(rmse_values, key=lambda x: x[2]))"
      ]
    },
    {
      "cell_type": "markdown",
      "metadata": {
        "id": "eCRCaKlSwp7D"
      },
      "source": [
        "- What's the best `max_depth`:\n",
        "\n",
        "- Answer:"
      ]
    },
    {
      "cell_type": "markdown",
      "metadata": {
        "id": "BDLbx3N5xAoY"
      },
      "source": [
        "**Question 5**\n",
        "\n",
        "We can extract feature importance information from tree-based models.\n",
        "\n",
        "At each step of the decision tree learning algorith, it finds the best split. When doint it, we can calculate \"gain\" - the reduction in impurity before and after the split. This gain is quite useful in understanding what are the imporatant features for tree-based models.\n",
        "\n",
        "In Scikit-Learn, tree-based models contain this information in the `feature_importances_` field.\n",
        "\n",
        "For this homework question, we'll find the most important feature:\n",
        "\n",
        "Train the model with these parametes:\n",
        "- `n_estimators=10`,\n",
        "- `max_depth=20`,\n",
        "- `random_state=1`,\n",
        "- `n_jobs=-1` (optional)\n",
        "\n",
        "Get the feature importance information from this model"
      ]
    },
    {
      "cell_type": "code",
      "execution_count": 68,
      "metadata": {
        "id": "UICqST2Qwhbj"
      },
      "outputs": [
        {
          "name": "stdout",
          "output_type": "stream",
          "text": [
            "median_income 0.4940844854873038\n"
          ]
        },
        {
          "name": "stderr",
          "output_type": "stream",
          "text": [
            "/Library/Frameworks/Python.framework/Versions/3.10/lib/python3.10/site-packages/sklearn/utils/deprecation.py:87: FutureWarning: Function get_feature_names is deprecated; get_feature_names is deprecated in 1.0 and will be removed in 1.2. Please use get_feature_names_out instead.\n",
            "  warnings.warn(msg, category=FutureWarning)\n"
          ]
        }
      ],
      "source": [
        "#@ TRAINING THE RANDOM FOREST MODEL:\n",
        "rf = RandomForestRegressor(n_estimators=10, max_depth=20, random_state=1, n_jobs=-1)\n",
        "rf.fit(X_train, y_train)\n",
        "\n",
        "for i in range(len(dv.get_feature_names())):\n",
        "    if rf.feature_importances_[i] == max(rf.feature_importances_):\n",
        "        print(dv.get_feature_names()[i], rf.feature_importances_[i])"
      ]
    },
    {
      "cell_type": "markdown",
      "metadata": {
        "id": "kSCqlx9jye1s"
      },
      "source": [
        "- What's the most important feature?\n",
        "\n",
        "- Answer:"
      ]
    },
    {
      "cell_type": "markdown",
      "metadata": {
        "id": "K5KEdiTMzPaI"
      },
      "source": [
        "**Question 6**\n",
        "\n",
        "Now let's train an XGBoost model! For this question, we'll tune the eta parameter:\n",
        "\n",
        "- Install XGBoost.\n",
        "- Create DMatrix for train and validation\n",
        "- Create a watchlist\n",
        "- Train a model with these parameters for 100 rounds:\n",
        "\n",
        "```\n",
        "xgb_params = {  \n",
        "    'eta': 0.3,  \n",
        "    'max_depth': 6,  \n",
        "    'min_child_weight': 1,  \n",
        "\n",
        "    'objective': 'reg:squarederror',\n",
        "    'nthread': 8,\n",
        "\n",
        "    'seed': 1,\n",
        "    'verbosity': 1,\n",
        "}\n",
        "```\n",
        "\n"
      ]
    },
    {
      "cell_type": "code",
      "execution_count": 69,
      "metadata": {
        "id": "TUP0uoL5yZTc"
      },
      "outputs": [],
      "source": [
        "#@ CREATING THE DMARTIX:\n",
        "features = dv.feature_names_\n",
        "\n",
        "regex = re.compile(r\"<\", re.IGNORECASE)\n",
        "features = [regex.sub(\"_\", col) if any(x in str(col) for x in set(('[', ']', '<'))) else col for col in features]\n",
        "\n",
        "dtrain = xgb.DMatrix(X_train, label= y_train , feature_names=features)\n",
        "dval = xgb.DMatrix(X_val, label=y_val, feature_names=features)"
      ]
    },
    {
      "cell_type": "code",
      "execution_count": 73,
      "metadata": {
        "id": "lRRzLznP-Z-Q"
      },
      "outputs": [
        {
          "name": "stdout",
          "output_type": "stream",
          "text": [
            "[0]\tval-rmse:10.45004\n",
            "[1]\tval-rmse:9.40748\n",
            "[2]\tval-rmse:8.46973\n",
            "[3]\tval-rmse:7.62593\n",
            "[4]\tval-rmse:6.86610\n",
            "[5]\tval-rmse:6.18291\n",
            "[6]\tval-rmse:5.56793\n",
            "[7]\tval-rmse:5.01440\n",
            "[8]\tval-rmse:4.51605\n",
            "[9]\tval-rmse:4.06796\n",
            "[10]\tval-rmse:3.66449\n",
            "[11]\tval-rmse:3.30162\n",
            "[12]\tval-rmse:2.97564\n",
            "[13]\tval-rmse:2.68214\n",
            "[14]\tval-rmse:2.41851\n",
            "[15]\tval-rmse:2.18164\n",
            "[16]\tval-rmse:1.96901\n",
            "[17]\tval-rmse:1.77695\n",
            "[18]\tval-rmse:1.60477\n",
            "[19]\tval-rmse:1.45062\n",
            "[20]\tval-rmse:1.31240\n",
            "[21]\tval-rmse:1.18856\n",
            "[22]\tval-rmse:1.07753\n",
            "[23]\tval-rmse:0.97771\n",
            "[24]\tval-rmse:0.88848\n",
            "[25]\tval-rmse:0.80927\n",
            "[26]\tval-rmse:0.73792\n",
            "[27]\tval-rmse:0.67509\n",
            "[28]\tval-rmse:0.61930\n",
            "[29]\tval-rmse:0.56897\n",
            "[30]\tval-rmse:0.52515\n",
            "[31]\tval-rmse:0.48600\n",
            "[32]\tval-rmse:0.45236\n",
            "[33]\tval-rmse:0.42201\n",
            "[34]\tval-rmse:0.39632\n",
            "[35]\tval-rmse:0.37412\n",
            "[36]\tval-rmse:0.35500\n",
            "[37]\tval-rmse:0.33854\n",
            "[38]\tval-rmse:0.32456\n",
            "[39]\tval-rmse:0.31157\n",
            "[40]\tval-rmse:0.30083\n",
            "[41]\tval-rmse:0.29160\n",
            "[42]\tval-rmse:0.28444\n",
            "[43]\tval-rmse:0.27835\n",
            "[44]\tval-rmse:0.27326\n",
            "[45]\tval-rmse:0.26820\n",
            "[46]\tval-rmse:0.26477\n",
            "[47]\tval-rmse:0.26093\n",
            "[48]\tval-rmse:0.25837\n",
            "[49]\tval-rmse:0.25584\n",
            "[50]\tval-rmse:0.25417\n",
            "[51]\tval-rmse:0.25259\n",
            "[52]\tval-rmse:0.24990\n",
            "[53]\tval-rmse:0.24797\n",
            "[54]\tval-rmse:0.24706\n",
            "[55]\tval-rmse:0.24517\n",
            "[56]\tval-rmse:0.24445\n",
            "[57]\tval-rmse:0.24330\n",
            "[58]\tval-rmse:0.24270\n",
            "[59]\tval-rmse:0.24195\n",
            "[60]\tval-rmse:0.24162\n",
            "[61]\tval-rmse:0.24127\n",
            "[62]\tval-rmse:0.24086\n",
            "[63]\tval-rmse:0.24021\n",
            "[64]\tval-rmse:0.23992\n",
            "[65]\tval-rmse:0.23968\n",
            "[66]\tval-rmse:0.23897\n",
            "[67]\tval-rmse:0.23822\n",
            "[68]\tval-rmse:0.23787\n",
            "[69]\tval-rmse:0.23748\n",
            "[70]\tval-rmse:0.23701\n",
            "[71]\tval-rmse:0.23650\n",
            "[72]\tval-rmse:0.23624\n",
            "[73]\tval-rmse:0.23600\n",
            "[74]\tval-rmse:0.23559\n",
            "[75]\tval-rmse:0.23520\n",
            "[76]\tval-rmse:0.23511\n",
            "[77]\tval-rmse:0.23488\n",
            "[78]\tval-rmse:0.23430\n",
            "[79]\tval-rmse:0.23412\n",
            "[80]\tval-rmse:0.23403\n",
            "[81]\tval-rmse:0.23390\n",
            "[82]\tval-rmse:0.23373\n",
            "[83]\tval-rmse:0.23354\n",
            "[84]\tval-rmse:0.23328\n",
            "[85]\tval-rmse:0.23315\n",
            "[86]\tval-rmse:0.23281\n",
            "[87]\tval-rmse:0.23271\n",
            "[88]\tval-rmse:0.23263\n",
            "[89]\tval-rmse:0.23263\n",
            "[90]\tval-rmse:0.23223\n",
            "[91]\tval-rmse:0.23206\n",
            "[92]\tval-rmse:0.23198\n",
            "[93]\tval-rmse:0.23181\n",
            "[94]\tval-rmse:0.23189\n",
            "[95]\tval-rmse:0.23178\n",
            "[96]\tval-rmse:0.23149\n",
            "[97]\tval-rmse:0.23129\n",
            "[98]\tval-rmse:0.23130\n",
            "[99]\tval-rmse:0.23131\n",
            "[0]\tval-rmse:8.13461\n",
            "[1]\tval-rmse:5.70360\n",
            "[2]\tval-rmse:4.00366\n",
            "[3]\tval-rmse:2.81400\n",
            "[4]\tval-rmse:1.98317\n",
            "[5]\tval-rmse:1.40731\n",
            "[6]\tval-rmse:1.00954\n",
            "[7]\tval-rmse:0.73618\n",
            "[8]\tval-rmse:0.54980\n",
            "[9]\tval-rmse:0.42990\n",
            "[10]\tval-rmse:0.35265\n",
            "[11]\tval-rmse:0.30798\n",
            "[12]\tval-rmse:0.28001\n",
            "[13]\tval-rmse:0.26458\n",
            "[14]\tval-rmse:0.25756\n",
            "[15]\tval-rmse:0.25171\n",
            "[16]\tval-rmse:0.24934\n",
            "[17]\tval-rmse:0.24734\n",
            "[18]\tval-rmse:0.24517\n",
            "[19]\tval-rmse:0.24386\n",
            "[20]\tval-rmse:0.24320\n",
            "[21]\tval-rmse:0.24310\n",
            "[22]\tval-rmse:0.24266\n",
            "[23]\tval-rmse:0.24067\n",
            "[24]\tval-rmse:0.23982\n",
            "[25]\tval-rmse:0.23957\n",
            "[26]\tval-rmse:0.23829\n",
            "[27]\tval-rmse:0.23833\n",
            "[28]\tval-rmse:0.23809\n",
            "[29]\tval-rmse:0.23745\n",
            "[30]\tval-rmse:0.23717\n",
            "[31]\tval-rmse:0.23695\n",
            "[32]\tval-rmse:0.23557\n",
            "[33]\tval-rmse:0.23515\n",
            "[34]\tval-rmse:0.23521\n",
            "[35]\tval-rmse:0.23499\n",
            "[36]\tval-rmse:0.23449\n",
            "[37]\tval-rmse:0.23433\n",
            "[38]\tval-rmse:0.23429\n",
            "[39]\tval-rmse:0.23377\n",
            "[40]\tval-rmse:0.23391\n",
            "[41]\tval-rmse:0.23376\n",
            "[42]\tval-rmse:0.23317\n",
            "[43]\tval-rmse:0.23319\n",
            "[44]\tval-rmse:0.23322\n",
            "[45]\tval-rmse:0.23296\n",
            "[46]\tval-rmse:0.23274\n",
            "[47]\tval-rmse:0.23272\n",
            "[48]\tval-rmse:0.23278\n",
            "[49]\tval-rmse:0.23241\n",
            "[50]\tval-rmse:0.23235\n",
            "[51]\tval-rmse:0.23205\n",
            "[52]\tval-rmse:0.23184\n",
            "[53]\tval-rmse:0.23194\n",
            "[54]\tval-rmse:0.23117\n",
            "[55]\tval-rmse:0.23103\n",
            "[56]\tval-rmse:0.23080\n",
            "[57]\tval-rmse:0.23081\n",
            "[58]\tval-rmse:0.23066\n",
            "[59]\tval-rmse:0.23011\n",
            "[60]\tval-rmse:0.22985\n",
            "[61]\tval-rmse:0.22989\n",
            "[62]\tval-rmse:0.22984\n",
            "[63]\tval-rmse:0.22988\n",
            "[64]\tval-rmse:0.22977\n",
            "[65]\tval-rmse:0.22974\n",
            "[66]\tval-rmse:0.22987\n",
            "[67]\tval-rmse:0.22988\n",
            "[68]\tval-rmse:0.23001\n",
            "[69]\tval-rmse:0.22988\n",
            "[70]\tval-rmse:0.23008\n",
            "[71]\tval-rmse:0.22983\n",
            "[72]\tval-rmse:0.22975\n",
            "[73]\tval-rmse:0.22981\n",
            "[74]\tval-rmse:0.22974\n",
            "[75]\tval-rmse:0.22983\n",
            "[76]\tval-rmse:0.22981\n",
            "[77]\tval-rmse:0.22985\n",
            "[78]\tval-rmse:0.22979\n",
            "[79]\tval-rmse:0.22984\n",
            "[80]\tval-rmse:0.22984\n",
            "[81]\tval-rmse:0.22987\n",
            "[82]\tval-rmse:0.22986\n",
            "[83]\tval-rmse:0.22962\n",
            "[84]\tval-rmse:0.22943\n",
            "[85]\tval-rmse:0.22938\n",
            "[86]\tval-rmse:0.22938\n",
            "[87]\tval-rmse:0.22935\n",
            "[88]\tval-rmse:0.22926\n",
            "[89]\tval-rmse:0.22927\n",
            "[90]\tval-rmse:0.22907\n",
            "[91]\tval-rmse:0.22896\n",
            "[92]\tval-rmse:0.22913\n",
            "[93]\tval-rmse:0.22909\n",
            "[94]\tval-rmse:0.22882\n",
            "[95]\tval-rmse:0.22876\n",
            "[96]\tval-rmse:0.22882\n",
            "[97]\tval-rmse:0.22869\n",
            "[98]\tval-rmse:0.22873\n",
            "[99]\tval-rmse:0.22867\n",
            "Best RMSE: (0.3, 0.22867116621162661)\n"
          ]
        }
      ],
      "source": [
        "rmse_values = []\n",
        "for e in [0.1, 0.3]:\n",
        "    params = {\"max_depth\": 6, \"eta\": e, \"objective\": \"reg:squarederror\", \"min_child_weight\": 1, \"nthread\": 8, \"seed\": 1, \"verbosity\": 1}\n",
        "    num_rounds = 100\n",
        "    model = xgb.train(params, dtrain, num_rounds, evals=[(dval, \"val\")], early_stopping_rounds=10)\n",
        "    y_pred = model.predict(dval)\n",
        "    mse = mean_squared_error(y_val, y_pred)\n",
        "    rmse_values.append((e, np.sqrt(mse)))\n",
        "\n",
        "print(\"Best RMSE:\", min(rmse_values, key=lambda x: x[1]))"
      ]
    },
    {
      "cell_type": "code",
      "execution_count": 77,
      "metadata": {},
      "outputs": [
        {
          "name": "stdout",
          "output_type": "stream",
          "text": [
            "[0]\tval-rmse:10.45004\n",
            "[1]\tval-rmse:9.40748\n",
            "[2]\tval-rmse:8.46973\n",
            "[3]\tval-rmse:7.62593\n",
            "[4]\tval-rmse:6.86610\n",
            "[5]\tval-rmse:6.18291\n",
            "[6]\tval-rmse:5.56793\n",
            "[7]\tval-rmse:5.01440\n",
            "[8]\tval-rmse:4.51605\n",
            "[9]\tval-rmse:4.06796\n",
            "[10]\tval-rmse:3.66449\n",
            "[11]\tval-rmse:3.30162\n",
            "[12]\tval-rmse:2.97564\n",
            "[13]\tval-rmse:2.68214\n",
            "[14]\tval-rmse:2.41851\n",
            "[15]\tval-rmse:2.18164\n",
            "[16]\tval-rmse:1.96901\n",
            "[17]\tval-rmse:1.77695\n",
            "[18]\tval-rmse:1.60477\n",
            "[19]\tval-rmse:1.45062\n",
            "[20]\tval-rmse:1.31240\n",
            "[21]\tval-rmse:1.18856\n",
            "[22]\tval-rmse:1.07753\n",
            "[23]\tval-rmse:0.97771\n",
            "[24]\tval-rmse:0.88848\n",
            "[25]\tval-rmse:0.80927\n",
            "[26]\tval-rmse:0.73792\n",
            "[27]\tval-rmse:0.67509\n",
            "[28]\tval-rmse:0.61930\n",
            "[29]\tval-rmse:0.56897\n",
            "[30]\tval-rmse:0.52515\n",
            "[31]\tval-rmse:0.48600\n",
            "[32]\tval-rmse:0.45236\n",
            "[33]\tval-rmse:0.42201\n",
            "[34]\tval-rmse:0.39632\n",
            "[35]\tval-rmse:0.37412\n",
            "[36]\tval-rmse:0.35500\n",
            "[37]\tval-rmse:0.33854\n",
            "[38]\tval-rmse:0.32456\n",
            "[39]\tval-rmse:0.31157\n",
            "[40]\tval-rmse:0.30083\n",
            "[41]\tval-rmse:0.29160\n",
            "[42]\tval-rmse:0.28444\n",
            "[43]\tval-rmse:0.27835\n",
            "[44]\tval-rmse:0.27326\n",
            "[45]\tval-rmse:0.26820\n",
            "[46]\tval-rmse:0.26477\n",
            "[47]\tval-rmse:0.26093\n",
            "[48]\tval-rmse:0.25837\n",
            "[49]\tval-rmse:0.25584\n",
            "[50]\tval-rmse:0.25417\n",
            "[51]\tval-rmse:0.25259\n",
            "[52]\tval-rmse:0.24990\n",
            "[53]\tval-rmse:0.24797\n",
            "[54]\tval-rmse:0.24706\n",
            "[55]\tval-rmse:0.24517\n",
            "[56]\tval-rmse:0.24445\n",
            "[57]\tval-rmse:0.24330\n",
            "[58]\tval-rmse:0.24270\n",
            "[59]\tval-rmse:0.24195\n",
            "[60]\tval-rmse:0.24162\n",
            "[61]\tval-rmse:0.24127\n",
            "[62]\tval-rmse:0.24086\n",
            "[63]\tval-rmse:0.24021\n",
            "[64]\tval-rmse:0.23992\n",
            "[65]\tval-rmse:0.23968\n",
            "[66]\tval-rmse:0.23897\n",
            "[67]\tval-rmse:0.23822\n",
            "[68]\tval-rmse:0.23787\n",
            "[69]\tval-rmse:0.23748\n",
            "[70]\tval-rmse:0.23701\n",
            "[71]\tval-rmse:0.23650\n",
            "[72]\tval-rmse:0.23624\n",
            "[73]\tval-rmse:0.23600\n",
            "[74]\tval-rmse:0.23559\n",
            "[75]\tval-rmse:0.23520\n",
            "[76]\tval-rmse:0.23511\n",
            "[77]\tval-rmse:0.23488\n",
            "[78]\tval-rmse:0.23430\n",
            "[79]\tval-rmse:0.23412\n",
            "[80]\tval-rmse:0.23403\n",
            "[81]\tval-rmse:0.23390\n",
            "[82]\tval-rmse:0.23373\n",
            "[83]\tval-rmse:0.23354\n",
            "[84]\tval-rmse:0.23328\n",
            "[85]\tval-rmse:0.23315\n",
            "[86]\tval-rmse:0.23281\n",
            "[87]\tval-rmse:0.23271\n",
            "[88]\tval-rmse:0.23263\n",
            "[89]\tval-rmse:0.23263\n",
            "[90]\tval-rmse:0.23223\n",
            "[91]\tval-rmse:0.23206\n",
            "[92]\tval-rmse:0.23198\n",
            "[93]\tval-rmse:0.23181\n",
            "[94]\tval-rmse:0.23189\n",
            "[95]\tval-rmse:0.23178\n",
            "[96]\tval-rmse:0.23149\n",
            "[97]\tval-rmse:0.23129\n",
            "[98]\tval-rmse:0.23130\n",
            "[99]\tval-rmse:0.23131\n",
            "Best RMSE: 0.23130784279880415\n"
          ]
        }
      ],
      "source": [
        "rmse_values = []\n",
        "\n",
        "params = {\"max_depth\": 6, \"eta\": 0.1, \"objective\": \"reg:squarederror\", \"min_child_weight\": 1, \"nthread\": 8, \"seed\": 1, \"verbosity\": 1}\n",
        "num_rounds = 100\n",
        "model = xgb.train(params, dtrain, num_rounds, evals=[(dval, \"val\")], early_stopping_rounds=10)\n",
        "y_pred = model.predict(dval)\n",
        "mse = mean_squared_error(y_val, y_pred)\n",
        "rmse_values.append((np.sqrt(mse)))\n",
        "\n",
        "print(\"Best RMSE:\", min(rmse_values))"
      ]
    },
    {
      "cell_type": "markdown",
      "metadata": {
        "id": "3RmcQ1BQ64X-"
      },
      "source": [
        "- Now, change eta first to 0.1 and then to 0.01."
      ]
    },
    {
      "cell_type": "markdown",
      "metadata": {
        "id": "Yl6Xn6Zb76iH"
      },
      "source": [
        "- Which eta leads to the best RMSE score on the validation dataset?\n",
        "\n",
        "- Answer:"
      ]
    }
  ],
  "metadata": {
    "colab": {
      "provenance": []
    },
    "kernelspec": {
      "display_name": "Python 3.10.4 64-bit",
      "language": "python",
      "name": "python3"
    },
    "language_info": {
      "codemirror_mode": {
        "name": "ipython",
        "version": 3
      },
      "file_extension": ".py",
      "mimetype": "text/x-python",
      "name": "python",
      "nbconvert_exporter": "python",
      "pygments_lexer": "ipython3",
      "version": "3.10.4"
    },
    "vscode": {
      "interpreter": {
        "hash": "aee8b7b246df8f9039afb4144a1f6fd8d2ca17a180786b69acc140d282b71a49"
      }
    }
  },
  "nbformat": 4,
  "nbformat_minor": 0
}
